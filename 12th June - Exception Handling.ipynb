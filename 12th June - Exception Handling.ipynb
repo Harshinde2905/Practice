{
 "cells": [
  {
   "cell_type": "code",
   "execution_count": 1,
   "metadata": {},
   "outputs": [],
   "source": [
    "a = 10\n",
    "b = 5\n",
    "c = a+b\n",
    "print(c)"
   ]
  },
  {
   "cell_type": "markdown",
   "metadata": {},
   "source": [
    "# Try: Except:"
   ]
  },
  {
   "cell_type": "code",
   "execution_count": 2,
   "metadata": {
    "scrolled": true
   },
   "outputs": [
    {
     "name": "stdout",
     "output_type": "stream",
     "text": [
      "enter first number: 10\n",
      "enter second number: 0\n",
      "denominator should not be a zero\n"
     ]
    }
   ],
   "source": [
    "a = int(input(\"enter first number: \"))\n",
    "b = int(input(\"enter second number: \"))\n",
    "try:\n",
    "    c = a/b\n",
    "    print(c)\n",
    "except ZeroDivisionError:\n",
    "    print(\"denominator should not be a zero\")\n"
   ]
  },
  {
   "cell_type": "markdown",
   "metadata": {},
   "source": [
    "# types of classes :\n",
    "   # zerodivisionerror\n",
    "   # value error\n",
    "   # typeerror\n",
    "    \n",
    "   # etc\n"
   ]
  },
  {
   "cell_type": "code",
   "execution_count": 3,
   "metadata": {
    "scrolled": true
   },
   "outputs": [
    {
     "name": "stdout",
     "output_type": "stream",
     "text": [
      "Enter value 1: 10\n",
      "Enter value 2: 2\n",
      "5.0\n",
      "12\n"
     ]
    }
   ],
   "source": [
    "while True:\n",
    "    try:\n",
    "        a = int(input(\"Enter value 1: \"))\n",
    "        b = int(input(\"Enter value 2: \"))\n",
    "        c = (a)/(b)\n",
    "        print(c)\n",
    "        d = a+b\n",
    "        print(d)\n",
    "        break\n",
    "    except ZeroDivisionError:\n",
    "        print(\"Denominator cannot be zero\")\n",
    "    except ValueError:\n",
    "        print(\"Enter only Integer Value\")\n",
    "\n"
   ]
  },
  {
   "cell_type": "code",
   "execution_count": null,
   "metadata": {},
   "outputs": [
    {
     "name": "stdout",
     "output_type": "stream",
     "text": [
      "Enter value 1: 10\n",
      "Enter value 2: 0\n",
      "try again!\n",
      "Enter value 1: 10\n",
      "Enter value 2: sd\n",
      "try again!\n",
      "Enter value 1: 10.23\n",
      "try again!\n"
     ]
    }
   ],
   "source": [
    "while True:\n",
    "    try:\n",
    "        a = int(input(\"Enter value 1: \"))\n",
    "        b = int(input(\"Enter value 2: \"))\n",
    "        c = (a)/(b)\n",
    "        print(c)\n",
    "        d = a+b\n",
    "        print(d)\n",
    "        break\n",
    "    except:\n",
    "        print(\"try again!\")"
   ]
  },
  {
   "cell_type": "code",
   "execution_count": null,
   "metadata": {},
   "outputs": [],
   "source": [
    "while True:\n",
    "    try:\n",
    "        a = int(input(\"Enter First Value: \"))\n",
    "        b = int(input(\"Enter Second Value: \"))\n",
    "        c = a/b\n",
    "        print(c)\n",
    "        break\n",
    "        \n",
    "    except ZeroDivisionError as e:\n",
    "        print(e)\n",
    "    except ValueError:\n",
    "        print(\"Enter only int value\")\n",
    "        "
   ]
  },
  {
   "cell_type": "markdown",
   "metadata": {},
   "source": [
    "# import sys"
   ]
  },
  {
   "cell_type": "code",
   "execution_count": null,
   "metadata": {},
   "outputs": [
    {
     "name": "stdout",
     "output_type": "stream",
     "text": [
      "first number: 10\n",
      "second number: 0\n",
      "(<class 'ZeroDivisionError'>, ZeroDivisionError('division by zero'), <traceback object at 0x00000245FD0E0BC0>)\n"
     ]
    }
   ],
   "source": [
    "import sys\n",
    "while True:\n",
    "    try:\n",
    "        a = int(input(\"first number: \"))\n",
    "        b = int(input(\"second number: \"))\n",
    "        c = a/b\n",
    "        print(c)\n",
    "        break\n",
    "    except:\n",
    "        print(sys.exc_info())"
   ]
  },
  {
   "cell_type": "code",
   "execution_count": null,
   "metadata": {},
   "outputs": [],
   "source": [
    "import sys\n",
    "while True:\n",
    "    try:\n",
    "        a = int(input(\"Enter a: \"))\n",
    "        b = int(input(\"Enter b: \"))\n",
    "        c = a/b\n",
    "        print(c)\n",
    "        break\n",
    "    except:\n",
    "        a,b,c = sys.exc_info()\n",
    "        print(\"Exception class:- \",a)\n",
    "        print(\"Exceptio Message:- \",b)\n",
    "        print(\"Line number:- \",c.tb_lineno)"
   ]
  },
  {
   "cell_type": "markdown",
   "metadata": {},
   "source": [
    "# traceback.format_exc()"
   ]
  },
  {
   "cell_type": "code",
   "execution_count": null,
   "metadata": {},
   "outputs": [
    {
     "name": "stdout",
     "output_type": "stream",
     "text": [
      "Enter a: 19\n",
      "Enter b: 0\n",
      "Traceback (most recent call last):\n",
      "  File \"<ipython-input-9-d415fa57e391>\", line 7, in <module>\n",
      "    c = a/b\n",
      "ZeroDivisionError: division by zero\n",
      "\n"
     ]
    }
   ],
   "source": [
    "import traceback\n",
    "import sys\n",
    "while True:\n",
    "    try:\n",
    "        a = int(input(\"Enter a: \"))\n",
    "        b = int(input(\"Enter b: \"))\n",
    "        c = a/b\n",
    "        break\n",
    "    except:\n",
    "        print(traceback.format_exc())"
   ]
  },
  {
   "cell_type": "markdown",
   "metadata": {},
   "source": [
    "# Raise exception"
   ]
  },
  {
   "cell_type": "code",
   "execution_count": 1,
   "metadata": {
    "scrolled": true
   },
   "outputs": [
    {
     "name": "stdout",
     "output_type": "stream",
     "text": [
      "First Number: 19\n",
      "Second Number: 0\n",
      "Do not not zero\n",
      "First Number: 19\n",
      "Second Number: 2\n",
      "div is:  9.5\n"
     ]
    }
   ],
   "source": [
    "while True:\n",
    "    try:\n",
    "        a = int(input(\"First Number: \"))\n",
    "        b = int(input(\"Second Number: \"))\n",
    "        if a<0 or b<0:\n",
    "            raise exception(\"Negative no. not allowed\")\n",
    "        c = a/b\n",
    "        print(\"div is: \", c)\n",
    "        break\n",
    "    except ValueError:\n",
    "        print(\"Please int only\")\n",
    "    except ZeroDivisionError:\n",
    "        print(\"Do not not zero\")\n",
    "    except exception as e:\n",
    "        print(e)"
   ]
  },
  {
   "cell_type": "code",
   "execution_count": null,
   "metadata": {},
   "outputs": [],
   "source": []
  },
  {
   "cell_type": "code",
   "execution_count": 2,
   "metadata": {},
   "outputs": [
    {
     "name": "stdout",
     "output_type": "stream",
     "text": [
      "Enter value a: -21\n",
      "Enter value b: 2\n",
      "Negative no. not allowed\n",
      "Enter value a: 22.1\n",
      "Enter int value only!\n",
      "Enter value a: e\n",
      "Enter int value only!\n",
      "Enter value a: 0\n",
      "Enter value b: 0\n",
      "Value cannot be zero!\n",
      "Enter value a: 12\n",
      "Enter value b: 2\n",
      "6.0\n"
     ]
    }
   ],
   "source": [
    "while True:\n",
    "    try:\n",
    "        a = int(input(\"Enter value a: \"))\n",
    "        b = int(input(\"Enter value b: \"))\n",
    "        if a<0 or b<0:\n",
    "            raise Exception(\"Negative no. not allowed\")\n",
    "        c = a/b\n",
    "        print(c)\n",
    "        break \n",
    "    except ValueError:\n",
    "        print(\"Enter int value only!\")\n",
    "    except ZeroDivisionError:\n",
    "        print(\"Value cannot be zero!\")\n",
    "    except Exception as e:\n",
    "        print(e)\n",
    "        "
   ]
  },
  {
   "cell_type": "markdown",
   "metadata": {},
   "source": [
    "# (finally) Final Block"
   ]
  },
  {
   "cell_type": "code",
   "execution_count": 8,
   "metadata": {},
   "outputs": [
    {
     "name": "stdout",
     "output_type": "stream",
     "text": [
      "Enter a: 12\n",
      "Enter b: 0\n",
      "Value cannot be zero\n",
      "Hello\n",
      "\n"
     ]
    }
   ],
   "source": [
    "try:\n",
    "    a = int(input(\"Enter a: \"))\n",
    "    b = int(input(\"Enter b: \"))\n",
    "    c = a/b\n",
    "    print(c)\n",
    "    \n",
    "except:\n",
    "    print(\"Value cannot be zero\")\n",
    "\n",
    "finally:\n",
    "    print(\"Hello\")\n",
    "    print(\"We will be back!\")"
   ]
  },
  {
   "cell_type": "code",
   "execution_count": null,
   "metadata": {},
   "outputs": [],
   "source": []
  }
 ],
 "metadata": {
  "kernelspec": {
   "display_name": "Python 3",
   "language": "python",
   "name": "python3"
  },
  "language_info": {
   "codemirror_mode": {
    "name": "ipython",
    "version": 3
   },
   "file_extension": ".py",
   "mimetype": "text/x-python",
   "name": "python",
   "nbconvert_exporter": "python",
   "pygments_lexer": "ipython3",
   "version": "3.8.5"
  }
 },
 "nbformat": 4,
 "nbformat_minor": 4
}
